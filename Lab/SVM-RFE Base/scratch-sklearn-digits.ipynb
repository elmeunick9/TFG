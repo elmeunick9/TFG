{
 "cells": [
  {
   "cell_type": "markdown",
   "id": "adult-criticism",
   "metadata": {},
   "source": [
    "* Source: https://scikit-learn.org/stable/auto_examples/feature_selection/plot_rfe_digits.html#sphx-glr-auto-examples-feature-selection-plot-rfe-digits-py\n",
    "* Source: https://github.com/scikit-learn/scikit-learn/blob/main/sklearn/feature_selection/_rfe.py"
   ]
  },
  {
   "cell_type": "code",
   "execution_count": 65,
   "id": "stuck-baptist",
   "metadata": {},
   "outputs": [],
   "source": [
    "import numpy as np\n",
    "from sklearn.svm import SVC\n",
    "\n",
    "class SVM_RFE():\n",
    "    def __init__(self, n_features_to_select):\n",
    "        self.n_features_to_select = n_features_to_select\n",
    "\n",
    "    def fit(self, X, y):\n",
    "        n_features_to_select = self.n_features_to_select\n",
    "        n_features = X.shape[1]\n",
    "        if n_features_to_select is None:\n",
    "            n_features_to_select = n_features\n",
    "            \n",
    "        support_ = np.ones(n_features, dtype=bool)\n",
    "        ranking_ = np.ones(n_features, dtype=int)\n",
    "    \n",
    "        # np.sum(support_) is the number of selected features.\n",
    "        # It starts at n_features and decreases every iteration.\n",
    "        while np.sum(support_) > n_features_to_select:\n",
    "            \n",
    "            # Remaining features, represented with a list of indices.\n",
    "            features = np.arange(n_features)[support_]\n",
    "\n",
    "            # Declare and train the SVM\n",
    "            estimator = SVC(kernel=\"linear\", C=1)\n",
    "            estimator.fit(X[:, features], y)\n",
    "\n",
    "            # Get importance and rank them\n",
    "            # TODO: Use support_vectors_ directly, and/or find out why the **2 is nesscesary.\n",
    "            importances = estimator.coef_ ** 2\n",
    "            ranks = np.argsort(importances)\n",
    "\n",
    "            # Flatten ranks, required for Multi-Class Classification.\n",
    "            # For now we simply ignoring all but the first class to class comparisson.\n",
    "            # TODO: Choose the feature that appears most times in the first position.\n",
    "            ranks = np.ravel(ranks)\n",
    "\n",
    "            # Eliminate the worse feature\n",
    "            selected_feature = features[ranks[0]]\n",
    "            support_[selected_feature] = False\n",
    "            ranking_[np.logical_not(support_)] += 1\n",
    "\n",
    "        # Set final attributes\n",
    "        self.n_features_ = support_.sum()\n",
    "        self.support_ = support_\n",
    "        self.ranking_ = ranking_\n",
    "\n",
    "        return self\n"
   ]
  },
  {
   "cell_type": "code",
   "execution_count": 66,
   "id": "nuclear-framing",
   "metadata": {},
   "outputs": [
    {
     "data": {
      "text/plain": [
       "array([8, 5, 2, 8, 2, 5])"
      ]
     },
     "execution_count": 66,
     "metadata": {},
     "output_type": "execute_result"
    }
   ],
   "source": [
    "f = np.array([2, 5, 8])\n",
    "x = np.array([[2, 1, 0], [2, 0, 1]])\n",
    "f[np.ravel(x)]"
   ]
  },
  {
   "cell_type": "markdown",
   "id": "norman-advocacy",
   "metadata": {},
   "source": [
    "# Testing"
   ]
  },
  {
   "cell_type": "code",
   "execution_count": 67,
   "id": "neural-concrete",
   "metadata": {},
   "outputs": [
    {
     "data": {
      "image/png": "[encoded data removed]",
      "text/plain": [
       "<Figure size 288x288 with 2 Axes>"
      ]
     },
     "metadata": {
      "needs_background": "light"
     },
     "output_type": "display_data"
    }
   ],
   "source": [
    "from sklearn.datasets import load_digits\n",
    "import matplotlib.pyplot as plt\n",
    "import numpy as np\n",
    "\n",
    "# Load the digits dataset\n",
    "digits = load_digits()\n",
    "X = digits.images.reshape((len(digits.images), -1))\n",
    "y = digits.target\n",
    "\n",
    "# Plot one image\n",
    "plt.matshow(digits.images[1], cmap=plt.cm.Blues)\n",
    "plt.colorbar()\n",
    "plt.title(\"Ranking of pixels with RFE\")\n",
    "plt.show()"
   ]
  },
  {
   "cell_type": "code",
   "execution_count": 68,
   "id": "progressive-harmony",
   "metadata": {},
   "outputs": [
    {
     "data": {
      "text/plain": [
       "array([64, 63, 48, 22, 33,  6, 20, 55, 54, 50, 37, 10, 27, 35, 31, 52, 45,\n",
       "       36, 41,  9,  4,  8, 51, 53, 49, 39, 34, 21,  3, 30, 15, 60, 62,  7,\n",
       "       14,  1, 12, 24, 19, 56, 57, 32,  2, 17, 40, 11, 23, 58, 61, 46,  5,\n",
       "       29, 18, 26, 43, 38, 59, 47, 42, 13, 28, 25, 16, 44])"
      ]
     },
     "execution_count": 68,
     "metadata": {},
     "output_type": "execute_result"
    }
   ],
   "source": [
    "# Create the RFE object and rank each pixel\n",
    "rfe = SVM_RFE(n_features_to_select=1)\n",
    "rfe.fit(X, y)\n",
    "\n",
    "# Each pixel is ranked from position 1 (most important) to position 64 (least important)\n",
    "rfe.ranking_"
   ]
  },
  {
   "cell_type": "code",
   "execution_count": 69,
   "id": "comfortable-postcard",
   "metadata": {},
   "outputs": [
    {
     "data": {
      "image/png": "[encoded data removed]",
      "text/plain": [
       "<Figure size 288x288 with 2 Axes>"
      ]
     },
     "metadata": {
      "needs_background": "light"
     },
     "output_type": "display_data"
    }
   ],
   "source": [
    "ranking = rfe.ranking_.reshape(digits.images[0].shape)\n",
    "\n",
    "# Plot pixel ranking\n",
    "plt.matshow(ranking, cmap=plt.cm.Blues)\n",
    "plt.colorbar()\n",
    "plt.title(\"Ranking of pixels with RFE\")\n",
    "plt.show()"
   ]
  },
  {
   "cell_type": "code",
   "execution_count": null,
   "id": "friendly-westminster",
   "metadata": {},
   "outputs": [],
   "source": []
  }
 ],
 "metadata": {
  "kernelspec": {
   "display_name": "Python 3",
   "language": "python",
   "name": "python3"
  },
  "language_info": {
   "codemirror_mode": {
    "name": "ipython",
    "version": 3
   },
   "file_extension": ".py",
   "mimetype": "text/x-python",
   "name": "python",
   "nbconvert_exporter": "python",
   "pygments_lexer": "ipython3",
   "version": "3.8.5"
  }
 },
 "nbformat": 4,
 "nbformat_minor": 5
}
