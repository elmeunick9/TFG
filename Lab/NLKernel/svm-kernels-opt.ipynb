{
 "metadata": {
  "language_info": {
   "codemirror_mode": {
    "name": "ipython",
    "version": 3
   },
   "file_extension": ".py",
   "mimetype": "text/x-python",
   "name": "python",
   "nbconvert_exporter": "python",
   "pygments_lexer": "ipython3",
   "version": "3.9.1"
  },
  "orig_nbformat": 2,
  "kernelspec": {
   "name": "python391jvsc74a57bd055cee28b23d4516cfa9efbfe9dd088a3ec2d9355cd2dea1fdd2b8d77cdb80a74",
   "display_name": "Python 3.9.1 64-bit"
  },
  "metadata": {
   "interpreter": {
    "hash": "55cee28b23d4516cfa9efbfe9dd088a3ec2d9355cd2dea1fdd2b8d77cdb80a74"
   }
  }
 },
 "nbformat": 4,
 "nbformat_minor": 2,
 "cells": [
  {
   "cell_type": "code",
   "execution_count": 137,
   "metadata": {},
   "outputs": [],
   "source": [
    "import numpy as np\n",
    "from sklearn.svm import LinearSVC, SVC\n",
    "from sklearn.model_selection import KFold\n",
    "from sklearn.datasets import make_classification\n",
    "from sklearn.utils import resample\n",
    "from sklearn.metrics import pairwise\n",
    "from timerun import time_code, time_func\n",
    "import time\n",
    "import matplotlib.pyplot as plt\n",
    "import numpy as np\n",
    "from multiprocessing import Pool\n",
    "from parallel_methods import DSMethods\n",
    "import pandas as pd\n",
    "from sklearn import preprocessing"
   ]
  },
  {
   "cell_type": "code",
   "execution_count": 138,
   "metadata": {},
   "outputs": [],
   "source": [
    "def plot_train_vs_test(train_scores, test_scores, spoint = None, wo = None, points = {}, time = -1, tvar = -1):\n",
    "    if points != {}: plt.scatter(points.keys(), points.values(), marker='|', zorder = 3)\n",
    "    plt.plot(train_scores.keys(), train_scores.values(), label = \"Train\", zorder = 2)\n",
    "    plt.plot(test_scores.keys(), test_scores.values(), label = \"Test\", zorder = 1)\n",
    "    \n",
    "    xleft, xright = plt.xlim()\n",
    "    if spoint and wo:\n",
    "        plt.scatter(spoint[0], spoint[1], s=10, c='red')\n",
    "        w = [-wo[1]/n_features, wo[0]]\n",
    "        b = w[0]*spoint[0] + w[1]*spoint[1]\n",
    "        xleft, xright = plt.xlim()\n",
    "        xd = np.array([xleft, xright])\n",
    "        yd = [(b - w[0]*xd[0]) / w[1], (b - w[0]*xd[1]) / w[1]]\n",
    "        plt.plot(xd, yd, lw=1, c='red')\n",
    "    \n",
    "    plt.legend()\n",
    "    plt.ylim([0.4,1.0])\n",
    "    plt.xlim([xleft, xright])\n",
    "    plt.axhline(0.5, color = \"red\", linewidth=1, linestyle=\"--\")\n",
    "\n",
    "    plt.show()\n",
    "\n",
    "    print(\"AT\", spoint, \"WITH\", len(points), \"ITERATIONS IN\", time, \"SECONDS :\", tvar)\n",
    "\n",
    "def scal(data, w):\n",
    "    obj = np.array([w[0] * (1 - acc) + w[1] * (i / n_features) for i, acc in data.items()])\n",
    "    spoint_x = list(data.keys())[np.argmin(obj)]\n",
    "    spoint_y = data[spoint_x]\n",
    "    return (spoint_x, spoint_y, obj[np.argmin(obj)])\n",
    "\n",
    "def mean_of_arrays(data):\n",
    "    arr = {}\n",
    "    for x in data[0]:\n",
    "        arr[x] = np.mean([data[v][x] for v in data])\n",
    "    return arr"
   ]
  },
  {
   "cell_type": "code",
   "execution_count": 139,
   "metadata": {},
   "outputs": [],
   "source": [
    "n_features = 100\n",
    "X, y = make_classification(n_clusters_per_class = 6, n_samples = 4000, n_features = n_features, n_informative = 20, random_state=8, flip_y= 0.01)\n",
    "X_train, X_test = np.split(X, [1000])\n",
    "y_train, y_test = np.split(y, [1000])\n",
    "data = DSMethods(n_features, X_train, y_train, X_test, y_test)"
   ]
  },
  {
   "source": [
    "# Lineal vs. Non-Lineal"
   ],
   "cell_type": "markdown",
   "metadata": {}
  },
  {
   "cell_type": "code",
   "execution_count": 140,
   "metadata": {},
   "outputs": [],
   "source": [
    "@time_func\n",
    "def RANDOM_SELECTION(CVal = 0.1, kernel='liblinear'):\n",
    "    data.kernel = kernel\n",
    "    with Pool(6) as pool:\n",
    "        scores = pool.map(data.randomSelection, [CVal]*10)\n",
    "    \n",
    "    #scores = list(map(data.randomSelection, [0.1]))\n",
    "\n",
    "    train_scores = mean_of_arrays({i: x[0] for i, x in enumerate(scores)})\n",
    "    test_scores  = mean_of_arrays({i: x[1] for i, x in enumerate(scores)})\n",
    "    time         = np.mean([x[2] for x in scores])\n",
    "    plot_train_vs_test(train_scores, test_scores)"
   ]
  },
  {
   "cell_type": "code",
   "execution_count": 105,
   "metadata": {},
   "outputs": [],
   "source": [
    "#RANDOM_SELECTION()\n",
    "#RANDOM_SELECTION(kernel='linear')\n",
    "\n",
    "#data.kernel_matrix = 'poly'\n",
    "#RANDOM_SELECTION(kernel='precomputed')\n",
    "\n",
    "#data.kernel_matrix = None\n",
    "#RANDOM_SELECTION(kernel='poly')"
   ]
  },
  {
   "source": [
    "# SVM"
   ],
   "cell_type": "markdown",
   "metadata": {}
  },
  {
   "cell_type": "code",
   "execution_count": 141,
   "metadata": {},
   "outputs": [],
   "source": [
    "@time_func\n",
    "def SVM_RFE_W_STEP(step, C = 0.5, degree = 3, kernel = 'linear', w1 = [0.8, 0.2]):\n",
    "    data.kernel = 'precomputed'\n",
    "    data.kernel_matrix = kernel\n",
    "    data.C = C\n",
    "    data.degree = degree\n",
    "    kf = KFold(n_splits=6, shuffle=True)\n",
    "\n",
    "    index = [(train_index, test_index, step) for train_index, test_index in kf.split(data.X_train)]\n",
    "    with Pool(7) as pool:\n",
    "        scores = pool.map(data.svm_rfe_kernel, index)\n",
    "\n",
    "    #scores = list(map(data.svm_rfe_kernel, index))\n",
    "    scores = list(scores)\n",
    "\n",
    "    train_scores = mean_of_arrays({i: x[0] for i, x in enumerate(scores)})\n",
    "    test_scores  = mean_of_arrays({i: x[1] for i, x in enumerate(scores)})\n",
    "    points       = mean_of_arrays({i: x[2] for i, x in enumerate(scores)})\n",
    "    time         = np.mean([x[3] for x in scores])\n",
    "    tvar         = np.var([x[3] for x in scores])\n",
    "\n",
    "    plot_train_vs_test(train_scores, test_scores, scal(test_scores, w1), w1, points, time, tvar)\n",
    "    "
   ]
  },
  {
   "cell_type": "code",
   "execution_count": 146,
   "metadata": {},
   "outputs": [
    {
     "output_type": "display_data",
     "data": {
      "text/plain": "<Figure size 432x288 with 1 Axes>",
      "image/svg+xml": "<?xml version=\"1.0\" encoding=\"utf-8\" standalone=\"no\"?>\r\n<!DOCTYPE svg PUBLIC \"-//W3C//DTD SVG 1.1//EN\"\r\n  \"http://www.w3.org/Graphics/SVG/1.1/DTD/svg11.dtd\">\r\n<svg height=\"252.317344pt\" version=\"1.1\" viewBox=\"0 0 372.103125 252.317344\" width=\"372.103125pt\" xmlns=\"http://www.w3.org/2000/svg\" xmlns:xlink=\"http://www.w3.org/1999/xlink\">\r\n <metadata>\r\n  <rdf:RDF xmlns:cc=\"http://creativecommons.org/ns#\" xmlns:dc=\"http://purl.org/dc/elements/1.1/\" xmlns:rdf=\"http://www.w3.org/1999/02/22-rdf-syntax-ns#\">\r\n   <cc:Work>\r\n    <dc:type rdf:resource=\"http://purl.org/dc/dcmitype/StillImage\"/>\r\n    <dc:date>2021-05-26T23:37:01.245286</dc:date>\r\n    <dc:format>image/svg+xml</dc:format>\r\n    <dc:creator>\r\n     <cc:Agent>\r\n      <dc:title>Matplotlib v3.4.0, https://matplotlib.org/</dc:title>\r\n     </cc:Agent>\r\n    </dc:creator>\r\n   </cc:Work>\r\n  </rdf:RDF>\r\n </metadata>\r\n <defs>\r\n  <style type=\"text/css\">*{stroke-linecap:butt;stroke-linejoin:round;}</style>\r\n </defs>\r\n <g id=\"figure_1\">\r\n  <g id=\"patch_1\">\r\n   <path d=\"M 0 252.317344 \r\nL 372.103125 252.317344 \r\nL 372.103125 0 \r\nL 0 0 \r\nz\r\n\" style=\"fill:none;\"/>\r\n  </g>\r\n  <g id=\"axes_1\">\r\n   <g id=\"patch_2\">\r\n    <path d=\"M 30.103125 228.439219 \r\nL 364.903125 228.439219 \r\nL 364.903125 10.999219 \r\nL 30.103125 10.999219 \r\nz\r\n\" style=\"fill:#ffffff;\"/>\r\n   </g>\r\n   <g id=\"PathCollection_1\">\r\n    <defs>\r\n     <path d=\"M 0 1.581139 \r\nC 0.419323 1.581139 0.821528 1.41454 1.118034 1.118034 \r\nC 1.41454 0.821528 1.581139 0.419323 1.581139 0 \r\nC 1.581139 -0.419323 1.41454 -0.821528 1.118034 -1.118034 \r\nC 0.821528 -1.41454 0.419323 -1.581139 0 -1.581139 \r\nC -0.419323 -1.581139 -0.821528 -1.41454 -1.118034 -1.118034 \r\nC -1.41454 -0.821528 -1.581139 -0.419323 -1.581139 0 \r\nC -1.581139 0.419323 -1.41454 0.821528 -1.118034 1.118034 \r\nC -0.821528 1.41454 -0.419323 1.581139 0 1.581139 \r\nz\r\n\" id=\"mb0b8fb37fc\" style=\"stroke:#ff0000;\"/>\r\n    </defs>\r\n    <g clip-path=\"url(#pd4bf5fafe7)\">\r\n     <use style=\"fill:#ff0000;stroke:#ff0000;\" x=\"119.85934\" xlink:href=\"#mb0b8fb37fc\" y=\"81.295215\"/>\r\n    </g>\r\n   </g>\r\n   <g id=\"line2d_1\">\r\n    <path clip-path=\"url(#pd4bf5fafe7)\" d=\"M 45.321307 192.536929 \r\nL 51.53281 178.052433 \r\nL 57.744312 187.490886 \r\nL 63.955815 180.952382 \r\nL 70.167318 166.827384 \r\nL 76.378821 143.636503 \r\nL 82.590324 119.02724 \r\nL 88.801826 108.475433 \r\nL 95.013329 92.178196 \r\nL 101.224832 88.197574 \r\nL 107.436335 85.646228 \r\nL 113.647837 84.91416 \r\nL 119.85934 81.295215 \r\nL 126.070843 84.922875 \r\nL 132.282346 80.205827 \r\nL 138.493849 80.199291 \r\nL 144.705351 80.20147 \r\nL 150.916854 78.393086 \r\nL 157.128357 76.94638 \r\nL 163.33986 76.586882 \r\nL 169.551362 76.59124 \r\nL 175.762865 79.125155 \r\nL 181.974368 75.863529 \r\nL 188.185871 80.580577 \r\nL 194.397374 80.937896 \r\nL 200.608876 82.031641 \r\nL 206.820379 81.661249 \r\nL 213.031882 81.663428 \r\nL 219.243385 79.484653 \r\nL 225.454888 80.933538 \r\nL 231.66639 79.482474 \r\nL 237.877893 78.029231 \r\nL 244.089396 78.390908 \r\nL 250.300899 79.482474 \r\nL 256.512401 78.029231 \r\nL 262.723904 75.856992 \r\nL 268.935407 77.665376 \r\nL 275.14691 76.578167 \r\nL 281.358413 78.027052 \r\nL 287.569915 77.665376 \r\nL 293.781418 77.30152 \r\nL 299.992921 80.197112 \r\nL 306.204424 79.475938 \r\nL 312.415926 79.475938 \r\nL 318.627429 78.024873 \r\nL 324.838932 79.841972 \r\nL 331.050435 77.658839 \r\nL 337.261938 78.393086 \r\nL 343.47344 79.11644 \r\nL 349.684943 77.30152 \r\n\" style=\"fill:none;stroke:#ff7f0e;stroke-linecap:square;stroke-width:1.5;\"/>\r\n   </g>\r\n   <g id=\"matplotlib.axis_1\">\r\n    <g id=\"xtick_1\">\r\n     <g id=\"line2d_2\">\r\n      <defs>\r\n       <path d=\"M 0 0 \r\nL 0 3.5 \r\n\" id=\"m0c28df61ab\" style=\"stroke:#000000;stroke-width:0.8;\"/>\r\n      </defs>\r\n      <g>\r\n       <use style=\"stroke:#000000;stroke-width:0.8;\" x=\"42.215555\" xlink:href=\"#m0c28df61ab\" y=\"228.439219\"/>\r\n      </g>\r\n     </g>\r\n     <g id=\"text_1\">\r\n      <!-- 0 -->\r\n      <g transform=\"translate(39.034305 243.037656)scale(0.1 -0.1)\">\r\n       <defs>\r\n        <path d=\"M 2034 4250 \r\nQ 1547 4250 1301 3770 \r\nQ 1056 3291 1056 2328 \r\nQ 1056 1369 1301 889 \r\nQ 1547 409 2034 409 \r\nQ 2525 409 2770 889 \r\nQ 3016 1369 3016 2328 \r\nQ 3016 3291 2770 3770 \r\nQ 2525 4250 2034 4250 \r\nz\r\nM 2034 4750 \r\nQ 2819 4750 3233 4129 \r\nQ 3647 3509 3647 2328 \r\nQ 3647 1150 3233 529 \r\nQ 2819 -91 2034 -91 \r\nQ 1250 -91 836 529 \r\nQ 422 1150 422 2328 \r\nQ 422 3509 836 4129 \r\nQ 1250 4750 2034 4750 \r\nz\r\n\" id=\"DejaVuSans-30\" transform=\"scale(0.015625)\"/>\r\n       </defs>\r\n       <use xlink:href=\"#DejaVuSans-30\"/>\r\n      </g>\r\n     </g>\r\n    </g>\r\n    <g id=\"xtick_2\">\r\n     <g id=\"line2d_3\">\r\n      <g>\r\n       <use style=\"stroke:#000000;stroke-width:0.8;\" x=\"104.330583\" xlink:href=\"#m0c28df61ab\" y=\"228.439219\"/>\r\n      </g>\r\n     </g>\r\n     <g id=\"text_2\">\r\n      <!-- 20 -->\r\n      <g transform=\"translate(97.968083 243.037656)scale(0.1 -0.1)\">\r\n       <defs>\r\n        <path d=\"M 1228 531 \r\nL 3431 531 \r\nL 3431 0 \r\nL 469 0 \r\nL 469 531 \r\nQ 828 903 1448 1529 \r\nQ 2069 2156 2228 2338 \r\nQ 2531 2678 2651 2914 \r\nQ 2772 3150 2772 3378 \r\nQ 2772 3750 2511 3984 \r\nQ 2250 4219 1831 4219 \r\nQ 1534 4219 1204 4116 \r\nQ 875 4013 500 3803 \r\nL 500 4441 \r\nQ 881 4594 1212 4672 \r\nQ 1544 4750 1819 4750 \r\nQ 2544 4750 2975 4387 \r\nQ 3406 4025 3406 3419 \r\nQ 3406 3131 3298 2873 \r\nQ 3191 2616 2906 2266 \r\nQ 2828 2175 2409 1742 \r\nQ 1991 1309 1228 531 \r\nz\r\n\" id=\"DejaVuSans-32\" transform=\"scale(0.015625)\"/>\r\n       </defs>\r\n       <use xlink:href=\"#DejaVuSans-32\"/>\r\n       <use x=\"63.623047\" xlink:href=\"#DejaVuSans-30\"/>\r\n      </g>\r\n     </g>\r\n    </g>\r\n    <g id=\"xtick_3\">\r\n     <g id=\"line2d_4\">\r\n      <g>\r\n       <use style=\"stroke:#000000;stroke-width:0.8;\" x=\"166.445611\" xlink:href=\"#m0c28df61ab\" y=\"228.439219\"/>\r\n      </g>\r\n     </g>\r\n     <g id=\"text_3\">\r\n      <!-- 40 -->\r\n      <g transform=\"translate(160.083111 243.037656)scale(0.1 -0.1)\">\r\n       <defs>\r\n        <path d=\"M 2419 4116 \r\nL 825 1625 \r\nL 2419 1625 \r\nL 2419 4116 \r\nz\r\nM 2253 4666 \r\nL 3047 4666 \r\nL 3047 1625 \r\nL 3713 1625 \r\nL 3713 1100 \r\nL 3047 1100 \r\nL 3047 0 \r\nL 2419 0 \r\nL 2419 1100 \r\nL 313 1100 \r\nL 313 1709 \r\nL 2253 4666 \r\nz\r\n\" id=\"DejaVuSans-34\" transform=\"scale(0.015625)\"/>\r\n       </defs>\r\n       <use xlink:href=\"#DejaVuSans-34\"/>\r\n       <use x=\"63.623047\" xlink:href=\"#DejaVuSans-30\"/>\r\n      </g>\r\n     </g>\r\n    </g>\r\n    <g id=\"xtick_4\">\r\n     <g id=\"line2d_5\">\r\n      <g>\r\n       <use style=\"stroke:#000000;stroke-width:0.8;\" x=\"228.560639\" xlink:href=\"#m0c28df61ab\" y=\"228.439219\"/>\r\n      </g>\r\n     </g>\r\n     <g id=\"text_4\">\r\n      <!-- 60 -->\r\n      <g transform=\"translate(222.198139 243.037656)scale(0.1 -0.1)\">\r\n       <defs>\r\n        <path d=\"M 2113 2584 \r\nQ 1688 2584 1439 2293 \r\nQ 1191 2003 1191 1497 \r\nQ 1191 994 1439 701 \r\nQ 1688 409 2113 409 \r\nQ 2538 409 2786 701 \r\nQ 3034 994 3034 1497 \r\nQ 3034 2003 2786 2293 \r\nQ 2538 2584 2113 2584 \r\nz\r\nM 3366 4563 \r\nL 3366 3988 \r\nQ 3128 4100 2886 4159 \r\nQ 2644 4219 2406 4219 \r\nQ 1781 4219 1451 3797 \r\nQ 1122 3375 1075 2522 \r\nQ 1259 2794 1537 2939 \r\nQ 1816 3084 2150 3084 \r\nQ 2853 3084 3261 2657 \r\nQ 3669 2231 3669 1497 \r\nQ 3669 778 3244 343 \r\nQ 2819 -91 2113 -91 \r\nQ 1303 -91 875 529 \r\nQ 447 1150 447 2328 \r\nQ 447 3434 972 4092 \r\nQ 1497 4750 2381 4750 \r\nQ 2619 4750 2861 4703 \r\nQ 3103 4656 3366 4563 \r\nz\r\n\" id=\"DejaVuSans-36\" transform=\"scale(0.015625)\"/>\r\n       </defs>\r\n       <use xlink:href=\"#DejaVuSans-36\"/>\r\n       <use x=\"63.623047\" xlink:href=\"#DejaVuSans-30\"/>\r\n      </g>\r\n     </g>\r\n    </g>\r\n    <g id=\"xtick_5\">\r\n     <g id=\"line2d_6\">\r\n      <g>\r\n       <use style=\"stroke:#000000;stroke-width:0.8;\" x=\"290.675667\" xlink:href=\"#m0c28df61ab\" y=\"228.439219\"/>\r\n      </g>\r\n     </g>\r\n     <g id=\"text_5\">\r\n      <!-- 80 -->\r\n      <g transform=\"translate(284.313167 243.037656)scale(0.1 -0.1)\">\r\n       <defs>\r\n        <path d=\"M 2034 2216 \r\nQ 1584 2216 1326 1975 \r\nQ 1069 1734 1069 1313 \r\nQ 1069 891 1326 650 \r\nQ 1584 409 2034 409 \r\nQ 2484 409 2743 651 \r\nQ 3003 894 3003 1313 \r\nQ 3003 1734 2745 1975 \r\nQ 2488 2216 2034 2216 \r\nz\r\nM 1403 2484 \r\nQ 997 2584 770 2862 \r\nQ 544 3141 544 3541 \r\nQ 544 4100 942 4425 \r\nQ 1341 4750 2034 4750 \r\nQ 2731 4750 3128 4425 \r\nQ 3525 4100 3525 3541 \r\nQ 3525 3141 3298 2862 \r\nQ 3072 2584 2669 2484 \r\nQ 3125 2378 3379 2068 \r\nQ 3634 1759 3634 1313 \r\nQ 3634 634 3220 271 \r\nQ 2806 -91 2034 -91 \r\nQ 1263 -91 848 271 \r\nQ 434 634 434 1313 \r\nQ 434 1759 690 2068 \r\nQ 947 2378 1403 2484 \r\nz\r\nM 1172 3481 \r\nQ 1172 3119 1398 2916 \r\nQ 1625 2713 2034 2713 \r\nQ 2441 2713 2670 2916 \r\nQ 2900 3119 2900 3481 \r\nQ 2900 3844 2670 4047 \r\nQ 2441 4250 2034 4250 \r\nQ 1625 4250 1398 4047 \r\nQ 1172 3844 1172 3481 \r\nz\r\n\" id=\"DejaVuSans-38\" transform=\"scale(0.015625)\"/>\r\n       </defs>\r\n       <use xlink:href=\"#DejaVuSans-38\"/>\r\n       <use x=\"63.623047\" xlink:href=\"#DejaVuSans-30\"/>\r\n      </g>\r\n     </g>\r\n    </g>\r\n    <g id=\"xtick_6\">\r\n     <g id=\"line2d_7\">\r\n      <g>\r\n       <use style=\"stroke:#000000;stroke-width:0.8;\" x=\"352.790695\" xlink:href=\"#m0c28df61ab\" y=\"228.439219\"/>\r\n      </g>\r\n     </g>\r\n     <g id=\"text_6\">\r\n      <!-- 100 -->\r\n      <g transform=\"translate(343.246945 243.037656)scale(0.1 -0.1)\">\r\n       <defs>\r\n        <path d=\"M 794 531 \r\nL 1825 531 \r\nL 1825 4091 \r\nL 703 3866 \r\nL 703 4441 \r\nL 1819 4666 \r\nL 2450 4666 \r\nL 2450 531 \r\nL 3481 531 \r\nL 3481 0 \r\nL 794 0 \r\nL 794 531 \r\nz\r\n\" id=\"DejaVuSans-31\" transform=\"scale(0.015625)\"/>\r\n       </defs>\r\n       <use xlink:href=\"#DejaVuSans-31\"/>\r\n       <use x=\"63.623047\" xlink:href=\"#DejaVuSans-30\"/>\r\n       <use x=\"127.246094\" xlink:href=\"#DejaVuSans-30\"/>\r\n      </g>\r\n     </g>\r\n    </g>\r\n   </g>\r\n   <g id=\"matplotlib.axis_2\">\r\n    <g id=\"ytick_1\">\r\n     <g id=\"line2d_8\">\r\n      <defs>\r\n       <path d=\"M 0 0 \r\nL -3.5 0 \r\n\" id=\"m7adf2388aa\" style=\"stroke:#000000;stroke-width:0.8;\"/>\r\n      </defs>\r\n      <g>\r\n       <use style=\"stroke:#000000;stroke-width:0.8;\" x=\"30.103125\" xlink:href=\"#m7adf2388aa\" y=\"228.439219\"/>\r\n      </g>\r\n     </g>\r\n     <g id=\"text_7\">\r\n      <!-- 0.4 -->\r\n      <g transform=\"translate(7.2 232.238437)scale(0.1 -0.1)\">\r\n       <defs>\r\n        <path d=\"M 684 794 \r\nL 1344 794 \r\nL 1344 0 \r\nL 684 0 \r\nL 684 794 \r\nz\r\n\" id=\"DejaVuSans-2e\" transform=\"scale(0.015625)\"/>\r\n       </defs>\r\n       <use xlink:href=\"#DejaVuSans-30\"/>\r\n       <use x=\"63.623047\" xlink:href=\"#DejaVuSans-2e\"/>\r\n       <use x=\"95.410156\" xlink:href=\"#DejaVuSans-34\"/>\r\n      </g>\r\n     </g>\r\n    </g>\r\n    <g id=\"ytick_2\">\r\n     <g id=\"line2d_9\">\r\n      <g>\r\n       <use style=\"stroke:#000000;stroke-width:0.8;\" x=\"30.103125\" xlink:href=\"#m7adf2388aa\" y=\"192.199219\"/>\r\n      </g>\r\n     </g>\r\n     <g id=\"text_8\">\r\n      <!-- 0.5 -->\r\n      <g transform=\"translate(7.2 195.998437)scale(0.1 -0.1)\">\r\n       <defs>\r\n        <path d=\"M 691 4666 \r\nL 3169 4666 \r\nL 3169 4134 \r\nL 1269 4134 \r\nL 1269 2991 \r\nQ 1406 3038 1543 3061 \r\nQ 1681 3084 1819 3084 \r\nQ 2600 3084 3056 2656 \r\nQ 3513 2228 3513 1497 \r\nQ 3513 744 3044 326 \r\nQ 2575 -91 1722 -91 \r\nQ 1428 -91 1123 -41 \r\nQ 819 9 494 109 \r\nL 494 744 \r\nQ 775 591 1075 516 \r\nQ 1375 441 1709 441 \r\nQ 2250 441 2565 725 \r\nQ 2881 1009 2881 1497 \r\nQ 2881 1984 2565 2268 \r\nQ 2250 2553 1709 2553 \r\nQ 1456 2553 1204 2497 \r\nQ 953 2441 691 2322 \r\nL 691 4666 \r\nz\r\n\" id=\"DejaVuSans-35\" transform=\"scale(0.015625)\"/>\r\n       </defs>\r\n       <use xlink:href=\"#DejaVuSans-30\"/>\r\n       <use x=\"63.623047\" xlink:href=\"#DejaVuSans-2e\"/>\r\n       <use x=\"95.410156\" xlink:href=\"#DejaVuSans-35\"/>\r\n      </g>\r\n     </g>\r\n    </g>\r\n    <g id=\"ytick_3\">\r\n     <g id=\"line2d_10\">\r\n      <g>\r\n       <use style=\"stroke:#000000;stroke-width:0.8;\" x=\"30.103125\" xlink:href=\"#m7adf2388aa\" y=\"155.959219\"/>\r\n      </g>\r\n     </g>\r\n     <g id=\"text_9\">\r\n      <!-- 0.6 -->\r\n      <g transform=\"translate(7.2 159.758437)scale(0.1 -0.1)\">\r\n       <use xlink:href=\"#DejaVuSans-30\"/>\r\n       <use x=\"63.623047\" xlink:href=\"#DejaVuSans-2e\"/>\r\n       <use x=\"95.410156\" xlink:href=\"#DejaVuSans-36\"/>\r\n      </g>\r\n     </g>\r\n    </g>\r\n    <g id=\"ytick_4\">\r\n     <g id=\"line2d_11\">\r\n      <g>\r\n       <use style=\"stroke:#000000;stroke-width:0.8;\" x=\"30.103125\" xlink:href=\"#m7adf2388aa\" y=\"119.719219\"/>\r\n      </g>\r\n     </g>\r\n     <g id=\"text_10\">\r\n      <!-- 0.7 -->\r\n      <g transform=\"translate(7.2 123.518437)scale(0.1 -0.1)\">\r\n       <defs>\r\n        <path d=\"M 525 4666 \r\nL 3525 4666 \r\nL 3525 4397 \r\nL 1831 0 \r\nL 1172 0 \r\nL 2766 4134 \r\nL 525 4134 \r\nL 525 4666 \r\nz\r\n\" id=\"DejaVuSans-37\" transform=\"scale(0.015625)\"/>\r\n       </defs>\r\n       <use xlink:href=\"#DejaVuSans-30\"/>\r\n       <use x=\"63.623047\" xlink:href=\"#DejaVuSans-2e\"/>\r\n       <use x=\"95.410156\" xlink:href=\"#DejaVuSans-37\"/>\r\n      </g>\r\n     </g>\r\n    </g>\r\n    <g id=\"ytick_5\">\r\n     <g id=\"line2d_12\">\r\n      <g>\r\n       <use style=\"stroke:#000000;stroke-width:0.8;\" x=\"30.103125\" xlink:href=\"#m7adf2388aa\" y=\"83.479219\"/>\r\n      </g>\r\n     </g>\r\n     <g id=\"text_11\">\r\n      <!-- 0.8 -->\r\n      <g transform=\"translate(7.2 87.278437)scale(0.1 -0.1)\">\r\n       <use xlink:href=\"#DejaVuSans-30\"/>\r\n       <use x=\"63.623047\" xlink:href=\"#DejaVuSans-2e\"/>\r\n       <use x=\"95.410156\" xlink:href=\"#DejaVuSans-38\"/>\r\n      </g>\r\n     </g>\r\n    </g>\r\n    <g id=\"ytick_6\">\r\n     <g id=\"line2d_13\">\r\n      <g>\r\n       <use style=\"stroke:#000000;stroke-width:0.8;\" x=\"30.103125\" xlink:href=\"#m7adf2388aa\" y=\"47.239219\"/>\r\n      </g>\r\n     </g>\r\n     <g id=\"text_12\">\r\n      <!-- 0.9 -->\r\n      <g transform=\"translate(7.2 51.038437)scale(0.1 -0.1)\">\r\n       <defs>\r\n        <path d=\"M 703 97 \r\nL 703 672 \r\nQ 941 559 1184 500 \r\nQ 1428 441 1663 441 \r\nQ 2288 441 2617 861 \r\nQ 2947 1281 2994 2138 \r\nQ 2813 1869 2534 1725 \r\nQ 2256 1581 1919 1581 \r\nQ 1219 1581 811 2004 \r\nQ 403 2428 403 3163 \r\nQ 403 3881 828 4315 \r\nQ 1253 4750 1959 4750 \r\nQ 2769 4750 3195 4129 \r\nQ 3622 3509 3622 2328 \r\nQ 3622 1225 3098 567 \r\nQ 2575 -91 1691 -91 \r\nQ 1453 -91 1209 -44 \r\nQ 966 3 703 97 \r\nz\r\nM 1959 2075 \r\nQ 2384 2075 2632 2365 \r\nQ 2881 2656 2881 3163 \r\nQ 2881 3666 2632 3958 \r\nQ 2384 4250 1959 4250 \r\nQ 1534 4250 1286 3958 \r\nQ 1038 3666 1038 3163 \r\nQ 1038 2656 1286 2365 \r\nQ 1534 2075 1959 2075 \r\nz\r\n\" id=\"DejaVuSans-39\" transform=\"scale(0.015625)\"/>\r\n       </defs>\r\n       <use xlink:href=\"#DejaVuSans-30\"/>\r\n       <use x=\"63.623047\" xlink:href=\"#DejaVuSans-2e\"/>\r\n       <use x=\"95.410156\" xlink:href=\"#DejaVuSans-39\"/>\r\n      </g>\r\n     </g>\r\n    </g>\r\n    <g id=\"ytick_7\">\r\n     <g id=\"line2d_14\">\r\n      <g>\r\n       <use style=\"stroke:#000000;stroke-width:0.8;\" x=\"30.103125\" xlink:href=\"#m7adf2388aa\" y=\"10.999219\"/>\r\n      </g>\r\n     </g>\r\n     <g id=\"text_13\">\r\n      <!-- 1.0 -->\r\n      <g transform=\"translate(7.2 14.798437)scale(0.1 -0.1)\">\r\n       <use xlink:href=\"#DejaVuSans-31\"/>\r\n       <use x=\"63.623047\" xlink:href=\"#DejaVuSans-2e\"/>\r\n       <use x=\"95.410156\" xlink:href=\"#DejaVuSans-30\"/>\r\n      </g>\r\n     </g>\r\n    </g>\r\n   </g>\r\n   <g id=\"line2d_15\">\r\n    <path clip-path=\"url(#pd4bf5fafe7)\" d=\"M 45.321307 195.60749 \r\nL 51.53281 177.556052 \r\nL 57.744312 178.932679 \r\nL 63.955815 174.367394 \r\nL 70.167318 154.651553 \r\nL 76.378821 96.233205 \r\nL 82.590324 17.883314 \r\nL 88.801826 11.071641 \r\nL 95.013329 10.999219 \r\nL 101.224832 10.999219 \r\nL 107.436335 10.999219 \r\nL 113.647837 10.999219 \r\nL 119.85934 10.999219 \r\nL 126.070843 10.999219 \r\nL 132.282346 10.999219 \r\nL 138.493849 10.999219 \r\nL 144.705351 10.999219 \r\nL 150.916854 10.999219 \r\nL 157.128357 10.999219 \r\nL 163.33986 10.999219 \r\nL 169.551362 10.999219 \r\nL 175.762865 10.999219 \r\nL 181.974368 10.999219 \r\nL 188.185871 10.999219 \r\nL 194.397374 10.999219 \r\nL 200.608876 10.999219 \r\nL 206.820379 10.999219 \r\nL 213.031882 10.999219 \r\nL 219.243385 10.999219 \r\nL 225.454888 10.999219 \r\nL 231.66639 10.999219 \r\nL 237.877893 10.999219 \r\nL 244.089396 10.999219 \r\nL 250.300899 10.999219 \r\nL 256.512401 10.999219 \r\nL 262.723904 10.999219 \r\nL 268.935407 10.999219 \r\nL 275.14691 10.999219 \r\nL 281.358413 10.999219 \r\nL 287.569915 10.999219 \r\nL 293.781418 10.999219 \r\nL 299.992921 10.999219 \r\nL 306.204424 10.999219 \r\nL 312.415926 10.999219 \r\nL 318.627429 10.999219 \r\nL 324.838932 10.999219 \r\nL 331.050435 10.999219 \r\nL 337.261938 10.999219 \r\nL 343.47344 10.999219 \r\nL 349.684943 10.999219 \r\n\" style=\"fill:none;stroke:#1f77b4;stroke-linecap:square;stroke-width:1.5;\"/>\r\n   </g>\r\n   <g id=\"line2d_16\">\r\n    <path clip-path=\"url(#pd4bf5fafe7)\" d=\"M 30.103125 107.478615 \r\nL 364.903125 9.811815 \r\n\" style=\"fill:none;stroke:#ff0000;stroke-linecap:square;\"/>\r\n   </g>\r\n   <g id=\"line2d_17\">\r\n    <path clip-path=\"url(#pd4bf5fafe7)\" d=\"M 30.103125 192.199219 \r\nL 364.903125 192.199219 \r\n\" style=\"fill:none;stroke:#ff0000;stroke-dasharray:3.7,1.6;stroke-dashoffset:0;\"/>\r\n   </g>\r\n   <g id=\"patch_3\">\r\n    <path d=\"M 30.103125 228.439219 \r\nL 30.103125 10.999219 \r\n\" style=\"fill:none;stroke:#000000;stroke-linecap:square;stroke-linejoin:miter;stroke-width:0.8;\"/>\r\n   </g>\r\n   <g id=\"patch_4\">\r\n    <path d=\"M 364.903125 228.439219 \r\nL 364.903125 10.999219 \r\n\" style=\"fill:none;stroke:#000000;stroke-linecap:square;stroke-linejoin:miter;stroke-width:0.8;\"/>\r\n   </g>\r\n   <g id=\"patch_5\">\r\n    <path d=\"M 30.103125 228.439219 \r\nL 364.903125 228.439219 \r\n\" style=\"fill:none;stroke:#000000;stroke-linecap:square;stroke-linejoin:miter;stroke-width:0.8;\"/>\r\n   </g>\r\n   <g id=\"patch_6\">\r\n    <path d=\"M 30.103125 10.999219 \r\nL 364.903125 10.999219 \r\n\" style=\"fill:none;stroke:#000000;stroke-linecap:square;stroke-linejoin:miter;stroke-width:0.8;\"/>\r\n   </g>\r\n   <g id=\"PathCollection_2\">\r\n    <defs>\r\n     <path d=\"M 0 3 \r\nL 0 -3 \r\n\" id=\"m3c70939455\" style=\"stroke:#1f77b4;stroke-width:1.5;\"/>\r\n    </defs>\r\n    <g clip-path=\"url(#pd4bf5fafe7)\">\r\n     <use style=\"fill:#1f77b4;stroke:#1f77b4;stroke-width:1.5;\" x=\"349.684943\" xlink:href=\"#m3c70939455\" y=\"10.999219\"/>\r\n     <use style=\"fill:#1f77b4;stroke:#1f77b4;stroke-width:1.5;\" x=\"334.156186\" xlink:href=\"#m3c70939455\" y=\"10.999219\"/>\r\n     <use style=\"fill:#1f77b4;stroke:#1f77b4;stroke-width:1.5;\" x=\"318.627429\" xlink:href=\"#m3c70939455\" y=\"10.999219\"/>\r\n     <use style=\"fill:#1f77b4;stroke:#1f77b4;stroke-width:1.5;\" x=\"303.098672\" xlink:href=\"#m3c70939455\" y=\"10.999219\"/>\r\n     <use style=\"fill:#1f77b4;stroke:#1f77b4;stroke-width:1.5;\" x=\"287.569915\" xlink:href=\"#m3c70939455\" y=\"10.999219\"/>\r\n     <use style=\"fill:#1f77b4;stroke:#1f77b4;stroke-width:1.5;\" x=\"272.041158\" xlink:href=\"#m3c70939455\" y=\"10.999219\"/>\r\n     <use style=\"fill:#1f77b4;stroke:#1f77b4;stroke-width:1.5;\" x=\"256.512401\" xlink:href=\"#m3c70939455\" y=\"10.999219\"/>\r\n     <use style=\"fill:#1f77b4;stroke:#1f77b4;stroke-width:1.5;\" x=\"240.983644\" xlink:href=\"#m3c70939455\" y=\"10.999219\"/>\r\n     <use style=\"fill:#1f77b4;stroke:#1f77b4;stroke-width:1.5;\" x=\"225.454888\" xlink:href=\"#m3c70939455\" y=\"10.999219\"/>\r\n     <use style=\"fill:#1f77b4;stroke:#1f77b4;stroke-width:1.5;\" x=\"209.926131\" xlink:href=\"#m3c70939455\" y=\"10.999219\"/>\r\n     <use style=\"fill:#1f77b4;stroke:#1f77b4;stroke-width:1.5;\" x=\"194.397374\" xlink:href=\"#m3c70939455\" y=\"10.999219\"/>\r\n     <use style=\"fill:#1f77b4;stroke:#1f77b4;stroke-width:1.5;\" x=\"178.868617\" xlink:href=\"#m3c70939455\" y=\"10.999219\"/>\r\n     <use style=\"fill:#1f77b4;stroke:#1f77b4;stroke-width:1.5;\" x=\"163.33986\" xlink:href=\"#m3c70939455\" y=\"10.999219\"/>\r\n     <use style=\"fill:#1f77b4;stroke:#1f77b4;stroke-width:1.5;\" x=\"147.811103\" xlink:href=\"#m3c70939455\" y=\"10.999219\"/>\r\n     <use style=\"fill:#1f77b4;stroke:#1f77b4;stroke-width:1.5;\" x=\"132.282346\" xlink:href=\"#m3c70939455\" y=\"10.999219\"/>\r\n     <use style=\"fill:#1f77b4;stroke:#1f77b4;stroke-width:1.5;\" x=\"116.753589\" xlink:href=\"#m3c70939455\" y=\"10.999219\"/>\r\n     <use style=\"fill:#1f77b4;stroke:#1f77b4;stroke-width:1.5;\" x=\"101.224832\" xlink:href=\"#m3c70939455\" y=\"10.999219\"/>\r\n     <use style=\"fill:#1f77b4;stroke:#1f77b4;stroke-width:1.5;\" x=\"85.696075\" xlink:href=\"#m3c70939455\" y=\"11.071641\"/>\r\n     <use style=\"fill:#1f77b4;stroke:#1f77b4;stroke-width:1.5;\" x=\"70.167318\" xlink:href=\"#m3c70939455\" y=\"130.951628\"/>\r\n     <use style=\"fill:#1f77b4;stroke:#1f77b4;stroke-width:1.5;\" x=\"54.638561\" xlink:href=\"#m3c70939455\" y=\"178.932679\"/>\r\n    </g>\r\n   </g>\r\n   <g id=\"legend_1\">\r\n    <g id=\"patch_7\">\r\n     <path d=\"M 301.915625 135.897344 \r\nL 357.903125 135.897344 \r\nQ 359.903125 135.897344 359.903125 133.897344 \r\nL 359.903125 105.541094 \r\nQ 359.903125 103.541094 357.903125 103.541094 \r\nL 301.915625 103.541094 \r\nQ 299.915625 103.541094 299.915625 105.541094 \r\nL 299.915625 133.897344 \r\nQ 299.915625 135.897344 301.915625 135.897344 \r\nz\r\n\" style=\"fill:#ffffff;opacity:0.8;stroke:#cccccc;stroke-linejoin:miter;\"/>\r\n    </g>\r\n    <g id=\"line2d_18\">\r\n     <path d=\"M 303.915625 111.639531 \r\nL 323.915625 111.639531 \r\n\" style=\"fill:none;stroke:#1f77b4;stroke-linecap:square;stroke-width:1.5;\"/>\r\n    </g>\r\n    <g id=\"line2d_19\"/>\r\n    <g id=\"text_14\">\r\n     <!-- Train -->\r\n     <g transform=\"translate(331.915625 115.139531)scale(0.1 -0.1)\">\r\n      <defs>\r\n       <path d=\"M -19 4666 \r\nL 3928 4666 \r\nL 3928 4134 \r\nL 2272 4134 \r\nL 2272 0 \r\nL 1638 0 \r\nL 1638 4134 \r\nL -19 4134 \r\nL -19 4666 \r\nz\r\n\" id=\"DejaVuSans-54\" transform=\"scale(0.015625)\"/>\r\n       <path d=\"M 2631 2963 \r\nQ 2534 3019 2420 3045 \r\nQ 2306 3072 2169 3072 \r\nQ 1681 3072 1420 2755 \r\nQ 1159 2438 1159 1844 \r\nL 1159 0 \r\nL 581 0 \r\nL 581 3500 \r\nL 1159 3500 \r\nL 1159 2956 \r\nQ 1341 3275 1631 3429 \r\nQ 1922 3584 2338 3584 \r\nQ 2397 3584 2469 3576 \r\nQ 2541 3569 2628 3553 \r\nL 2631 2963 \r\nz\r\n\" id=\"DejaVuSans-72\" transform=\"scale(0.015625)\"/>\r\n       <path d=\"M 2194 1759 \r\nQ 1497 1759 1228 1600 \r\nQ 959 1441 959 1056 \r\nQ 959 750 1161 570 \r\nQ 1363 391 1709 391 \r\nQ 2188 391 2477 730 \r\nQ 2766 1069 2766 1631 \r\nL 2766 1759 \r\nL 2194 1759 \r\nz\r\nM 3341 1997 \r\nL 3341 0 \r\nL 2766 0 \r\nL 2766 531 \r\nQ 2569 213 2275 61 \r\nQ 1981 -91 1556 -91 \r\nQ 1019 -91 701 211 \r\nQ 384 513 384 1019 \r\nQ 384 1609 779 1909 \r\nQ 1175 2209 1959 2209 \r\nL 2766 2209 \r\nL 2766 2266 \r\nQ 2766 2663 2505 2880 \r\nQ 2244 3097 1772 3097 \r\nQ 1472 3097 1187 3025 \r\nQ 903 2953 641 2809 \r\nL 641 3341 \r\nQ 956 3463 1253 3523 \r\nQ 1550 3584 1831 3584 \r\nQ 2591 3584 2966 3190 \r\nQ 3341 2797 3341 1997 \r\nz\r\n\" id=\"DejaVuSans-61\" transform=\"scale(0.015625)\"/>\r\n       <path d=\"M 603 3500 \r\nL 1178 3500 \r\nL 1178 0 \r\nL 603 0 \r\nL 603 3500 \r\nz\r\nM 603 4863 \r\nL 1178 4863 \r\nL 1178 4134 \r\nL 603 4134 \r\nL 603 4863 \r\nz\r\n\" id=\"DejaVuSans-69\" transform=\"scale(0.015625)\"/>\r\n       <path d=\"M 3513 2113 \r\nL 3513 0 \r\nL 2938 0 \r\nL 2938 2094 \r\nQ 2938 2591 2744 2837 \r\nQ 2550 3084 2163 3084 \r\nQ 1697 3084 1428 2787 \r\nQ 1159 2491 1159 1978 \r\nL 1159 0 \r\nL 581 0 \r\nL 581 3500 \r\nL 1159 3500 \r\nL 1159 2956 \r\nQ 1366 3272 1645 3428 \r\nQ 1925 3584 2291 3584 \r\nQ 2894 3584 3203 3211 \r\nQ 3513 2838 3513 2113 \r\nz\r\n\" id=\"DejaVuSans-6e\" transform=\"scale(0.015625)\"/>\r\n      </defs>\r\n      <use xlink:href=\"#DejaVuSans-54\"/>\r\n      <use x=\"46.333984\" xlink:href=\"#DejaVuSans-72\"/>\r\n      <use x=\"87.447266\" xlink:href=\"#DejaVuSans-61\"/>\r\n      <use x=\"148.726562\" xlink:href=\"#DejaVuSans-69\"/>\r\n      <use x=\"176.509766\" xlink:href=\"#DejaVuSans-6e\"/>\r\n     </g>\r\n    </g>\r\n    <g id=\"line2d_20\">\r\n     <path d=\"M 303.915625 126.317656 \r\nL 323.915625 126.317656 \r\n\" style=\"fill:none;stroke:#ff7f0e;stroke-linecap:square;stroke-width:1.5;\"/>\r\n    </g>\r\n    <g id=\"line2d_21\"/>\r\n    <g id=\"text_15\">\r\n     <!-- Test -->\r\n     <g transform=\"translate(331.915625 129.817656)scale(0.1 -0.1)\">\r\n      <defs>\r\n       <path d=\"M 3597 1894 \r\nL 3597 1613 \r\nL 953 1613 \r\nQ 991 1019 1311 708 \r\nQ 1631 397 2203 397 \r\nQ 2534 397 2845 478 \r\nQ 3156 559 3463 722 \r\nL 3463 178 \r\nQ 3153 47 2828 -22 \r\nQ 2503 -91 2169 -91 \r\nQ 1331 -91 842 396 \r\nQ 353 884 353 1716 \r\nQ 353 2575 817 3079 \r\nQ 1281 3584 2069 3584 \r\nQ 2775 3584 3186 3129 \r\nQ 3597 2675 3597 1894 \r\nz\r\nM 3022 2063 \r\nQ 3016 2534 2758 2815 \r\nQ 2500 3097 2075 3097 \r\nQ 1594 3097 1305 2825 \r\nQ 1016 2553 972 2059 \r\nL 3022 2063 \r\nz\r\n\" id=\"DejaVuSans-65\" transform=\"scale(0.015625)\"/>\r\n       <path d=\"M 2834 3397 \r\nL 2834 2853 \r\nQ 2591 2978 2328 3040 \r\nQ 2066 3103 1784 3103 \r\nQ 1356 3103 1142 2972 \r\nQ 928 2841 928 2578 \r\nQ 928 2378 1081 2264 \r\nQ 1234 2150 1697 2047 \r\nL 1894 2003 \r\nQ 2506 1872 2764 1633 \r\nQ 3022 1394 3022 966 \r\nQ 3022 478 2636 193 \r\nQ 2250 -91 1575 -91 \r\nQ 1294 -91 989 -36 \r\nQ 684 19 347 128 \r\nL 347 722 \r\nQ 666 556 975 473 \r\nQ 1284 391 1588 391 \r\nQ 1994 391 2212 530 \r\nQ 2431 669 2431 922 \r\nQ 2431 1156 2273 1281 \r\nQ 2116 1406 1581 1522 \r\nL 1381 1569 \r\nQ 847 1681 609 1914 \r\nQ 372 2147 372 2553 \r\nQ 372 3047 722 3315 \r\nQ 1072 3584 1716 3584 \r\nQ 2034 3584 2315 3537 \r\nQ 2597 3491 2834 3397 \r\nz\r\n\" id=\"DejaVuSans-73\" transform=\"scale(0.015625)\"/>\r\n       <path d=\"M 1172 4494 \r\nL 1172 3500 \r\nL 2356 3500 \r\nL 2356 3053 \r\nL 1172 3053 \r\nL 1172 1153 \r\nQ 1172 725 1289 603 \r\nQ 1406 481 1766 481 \r\nL 2356 481 \r\nL 2356 0 \r\nL 1766 0 \r\nQ 1100 0 847 248 \r\nQ 594 497 594 1153 \r\nL 594 3053 \r\nL 172 3053 \r\nL 172 3500 \r\nL 594 3500 \r\nL 594 4494 \r\nL 1172 4494 \r\nz\r\n\" id=\"DejaVuSans-74\" transform=\"scale(0.015625)\"/>\r\n      </defs>\r\n      <use xlink:href=\"#DejaVuSans-54\"/>\r\n      <use x=\"44.083984\" xlink:href=\"#DejaVuSans-65\"/>\r\n      <use x=\"105.607422\" xlink:href=\"#DejaVuSans-73\"/>\r\n      <use x=\"157.707031\" xlink:href=\"#DejaVuSans-74\"/>\r\n     </g>\r\n    </g>\r\n   </g>\r\n  </g>\r\n </g>\r\n <defs>\r\n  <clipPath id=\"pd4bf5fafe7\">\r\n   <rect height=\"217.44\" width=\"334.8\" x=\"30.103125\" y=\"10.999219\"/>\r\n  </clipPath>\r\n </defs>\r\n</svg>\r\n",
      "image/png": "[encoded data removed]"
     },
     "metadata": {
      "needs_background": "light"
     }
    },
    {
     "output_type": "stream",
     "name": "stdout",
     "text": [
      "AT (25, 0.8060265012144386, 0.2051787990284491) WITH 20 ITERATIONS IN 14.152061462402344 SECONDS : 0.04112860890897233\n__main__.SVM_RFE_W_STEP - 00:00:19.774154700\n"
     ]
    }
   ],
   "source": [
    "SVM_RFE_W_STEP(5, 0.3, 3, 'poly')\n"
   ]
  },
  {
   "cell_type": "code",
   "execution_count": 108,
   "metadata": {},
   "outputs": [],
   "source": [
    "def check_pairwise_arrays(X, Y):\n",
    "    if X.shape[1] != Y.shape[1]:\n",
    "        raise ValueError(\"Incompatible dimension for X and Y matrices: \"\n",
    "            \"X.shape[1] == %d while Y.shape[1] == %d\" % (X.shape[1], Y.shape[1]))\n",
    "    return X, Y\n",
    "\n",
    "def combolution(X, Y, k, K=None, feat=None):\n",
    "    if K is None:\n",
    "        K = np.empty((m, n), dtype=float)\n",
    "\n",
    "    if feat is None:\n",
    "        m = X.shape[0]\n",
    "        n = Y.shape[0]\n",
    "        for i in range(m):\n",
    "            for j in range(n):\n",
    "                K[i, j] = k(X[i],Y[j])\n",
    "    else:\n",
    "        for i in feat:\n",
    "            for j in feat:\n",
    "                K[i, j] = k(X[i],Y[j])\n",
    "    return K\n",
    "\n",
    "def euclidean_distances(X, Y):\n",
    "    #X, Y = check_pairwise_arrays(X, Y)\n",
    "    distances = - 2 * np.dot(X, Y.T)\n",
    "    return distances\n",
    "\n",
    "\n",
    "def polynomial_kernel(X, Y, degree=3, gamma=None, coef0=1, feat=None, K=None):\n",
    "    X, Y = check_pairwise_arrays(X, Y)\n",
    "\n",
    "    if gamma is None:\n",
    "        gamma = 1.0 / X.shape[1]\n",
    "\n",
    "    def k(a, b):\n",
    "        return  (np.dot(a, b) * gamma + coef0) ** degree\n",
    "    \n",
    "    return combolution(X, Y, k, K, feat)\n",
    "\n",
    "def rbf_kernel(X, Y, gamma=None, feat=True):\n",
    "    X, Y = check_pairwise_arrays(X, Y)\n",
    "\n",
    "    if gamma is None:\n",
    "        gamma = 1.0 / X.shape[1]\n",
    "\n",
    "    #def k(a, b):\n",
    "    #    c = a - b\n",
    "    #    return np.exp(-gamma * np.dot(c, c))\n",
    "\n",
    "    K = pairwise.euclidean_distances(X, Y, squared=True)\n",
    "    K *= -gamma\n",
    "    np.exp(K, K)\n",
    "    return K\n",
    "\n",
    "\n",
    "class Problem():\n",
    "    def __init__(self, C=1, kernel='linear', gamma = 1.0, degree = 3):\n",
    "        self.kernel = kernel\n",
    "        self.C = C\n",
    "        self.gamma = gamma\n",
    "        self.degree = degree\n",
    "\n",
    "        self.nY = None\n",
    "        self._H_y = None\n",
    "\n",
    "    def computeKernelMatrix(self, X, Y):\n",
    "        if self.kernel == 'linear': return pairwise.polynomial_kernel(X, Y, degree=1)\n",
    "        if self.kernel == 'poly': return pairwise.polynomial_kernel(X, Y, coef0=self.C, degree=self.degree)\n",
    "        if self.kernel == 'rbf': return pairwise.rbf_kernel(X, Y, gamma=self.gamma)\n",
    "\n",
    "    def computeKernelMatrix2(self, X, K = None, feat = True):\n",
    "        if self.kernel == 'linear': return polynomial_kernel(X, X, degree=1, K = K, feat = feat)\n",
    "        if self.kernel == 'poly': return polynomial_kernel(X, X, coef0=self.C, degree=self.degree, K = K, feat = feat)\n",
    "        if self.kernel == 'rbf': return rbf_kernel(X, X, gamma=self.gamma)\n",
    "\n",
    "    def computeHessianMatrix(self, K):\n",
    "        return np.multiply(self._H_y, K)\n",
    "\n",
    "    def getKernelFunction(self):\n",
    "        if self.kernel == 'linear':\n",
    "            def k(a, b):\n",
    "                return np.dot(a, b)\n",
    "            return k\n",
    "        if self.kernel == 'poly':\n",
    "            pass\n",
    "        if self.kernel == 'rbf':\n",
    "            g = -self.gamma\n",
    "            def k(a, b):\n",
    "                c = a - b\n",
    "                return np.exp(g * np.dot(c, c))\n",
    "            return k\n",
    "\n",
    "    def time(self, name, f):\n",
    "        start_time = time.time()\n",
    "        K = f()\n",
    "        elapsed_time = time.time() - start_time\n",
    "        print(self.kernel, name, ' IN ', elapsed_time, 's')\n",
    "\n",
    "    def pkern(self, X, feat=True):\n",
    "        print('SKLEARN\\n', self.computeKernelMatrix(X, X))\n",
    "        print('MINE_KERN\\n', self.computeKernelMatrix2(X, X))\n",
    "\n",
    "        K = self.computeKernelMatrix(X, X)\n",
    "        features = random.sample(range(0, self.n_features), self.n_features)\n",
    "        X = X[:,]\n",
    "        print('MINE\\n', self.computeKernelMatrix2(X, K, feat))\n",
    "\n",
    "    def ptime(self, X):\n",
    "        self.time('SKLEARN', lambda: self.computeKernelMatrix(X, X))\n",
    "        self.time('MINE', lambda: self.computeKernelMatrix2(X, X))"
   ]
  },
  {
   "cell_type": "code",
   "execution_count": 109,
   "metadata": {},
   "outputs": [
    {
     "output_type": "stream",
     "name": "stdout",
     "text": [
      "SKLEARN\n [[ 4.15630987e+02  4.60375674e+01  1.43457966e+01 -1.72629458e-01]\n [ 4.60375674e+01  2.72106840e+01  5.94063633e-01 -7.27055006e-02]\n [ 1.43457966e+01  5.94063633e-01  6.48352705e+00  1.96170213e+00]\n [-1.72629458e-01 -7.27055006e-02  1.96170213e+00  8.28361980e+00]]\n"
     ]
    },
    {
     "output_type": "error",
     "ename": "TypeError",
     "evalue": "'bool' object is not iterable",
     "traceback": [
      "\u001b[1;31m---------------------------------------------------------------------------\u001b[0m",
      "\u001b[1;31mTypeError\u001b[0m                                 Traceback (most recent call last)",
      "\u001b[1;32m<ipython-input-109-c130a3081acc>\u001b[0m in \u001b[0;36m<module>\u001b[1;34m\u001b[0m\n\u001b[0;32m      1\u001b[0m \u001b[0mX\u001b[0m\u001b[1;33m,\u001b[0m \u001b[0my\u001b[0m \u001b[1;33m=\u001b[0m \u001b[0mmake_classification\u001b[0m\u001b[1;33m(\u001b[0m\u001b[0mn_samples\u001b[0m \u001b[1;33m=\u001b[0m \u001b[1;36m4\u001b[0m\u001b[1;33m,\u001b[0m \u001b[0mn_features\u001b[0m\u001b[1;33m=\u001b[0m\u001b[1;36m2\u001b[0m\u001b[1;33m,\u001b[0m \u001b[0mn_redundant\u001b[0m\u001b[1;33m=\u001b[0m\u001b[1;36m0\u001b[0m\u001b[1;33m)\u001b[0m\u001b[1;33m\u001b[0m\u001b[1;33m\u001b[0m\u001b[0m\n\u001b[0;32m      2\u001b[0m \u001b[0mprob\u001b[0m \u001b[1;33m=\u001b[0m \u001b[0mProblem\u001b[0m\u001b[1;33m(\u001b[0m\u001b[0mkernel\u001b[0m\u001b[1;33m=\u001b[0m\u001b[1;34m'poly'\u001b[0m\u001b[1;33m)\u001b[0m\u001b[1;33m\u001b[0m\u001b[1;33m\u001b[0m\u001b[0m\n\u001b[1;32m----> 3\u001b[1;33m \u001b[0mprob\u001b[0m\u001b[1;33m.\u001b[0m\u001b[0mpkern\u001b[0m\u001b[1;33m(\u001b[0m\u001b[0mX\u001b[0m\u001b[1;33m,\u001b[0m \u001b[0mfeat\u001b[0m\u001b[1;33m=\u001b[0m\u001b[1;33m[\u001b[0m\u001b[1;36m1\u001b[0m\u001b[1;33m]\u001b[0m\u001b[1;33m)\u001b[0m\u001b[1;33m\u001b[0m\u001b[1;33m\u001b[0m\u001b[0m\n\u001b[0m\u001b[0;32m      4\u001b[0m \u001b[1;33m\u001b[0m\u001b[0m\n\u001b[0;32m      5\u001b[0m \u001b[0mprob\u001b[0m \u001b[1;33m=\u001b[0m \u001b[0mProblem\u001b[0m\u001b[1;33m(\u001b[0m\u001b[0mkernel\u001b[0m\u001b[1;33m=\u001b[0m\u001b[1;34m'rbf'\u001b[0m\u001b[1;33m)\u001b[0m\u001b[1;33m\u001b[0m\u001b[1;33m\u001b[0m\u001b[0m\n",
      "\u001b[1;32m<ipython-input-108-91afa59f49c9>\u001b[0m in \u001b[0;36mpkern\u001b[1;34m(self, X, feat)\u001b[0m\n\u001b[0;32m     99\u001b[0m     \u001b[1;32mdef\u001b[0m \u001b[0mpkern\u001b[0m\u001b[1;33m(\u001b[0m\u001b[0mself\u001b[0m\u001b[1;33m,\u001b[0m \u001b[0mX\u001b[0m\u001b[1;33m,\u001b[0m \u001b[0mfeat\u001b[0m\u001b[1;33m=\u001b[0m\u001b[1;32mTrue\u001b[0m\u001b[1;33m)\u001b[0m\u001b[1;33m:\u001b[0m\u001b[1;33m\u001b[0m\u001b[1;33m\u001b[0m\u001b[0m\n\u001b[0;32m    100\u001b[0m         \u001b[0mprint\u001b[0m\u001b[1;33m(\u001b[0m\u001b[1;34m'SKLEARN\\n'\u001b[0m\u001b[1;33m,\u001b[0m \u001b[0mself\u001b[0m\u001b[1;33m.\u001b[0m\u001b[0mcomputeKernelMatrix\u001b[0m\u001b[1;33m(\u001b[0m\u001b[0mX\u001b[0m\u001b[1;33m,\u001b[0m \u001b[0mX\u001b[0m\u001b[1;33m)\u001b[0m\u001b[1;33m)\u001b[0m\u001b[1;33m\u001b[0m\u001b[1;33m\u001b[0m\u001b[0m\n\u001b[1;32m--> 101\u001b[1;33m         \u001b[0mprint\u001b[0m\u001b[1;33m(\u001b[0m\u001b[1;34m'MINE_KERN\\n'\u001b[0m\u001b[1;33m,\u001b[0m \u001b[0mself\u001b[0m\u001b[1;33m.\u001b[0m\u001b[0mcomputeKernelMatrix2\u001b[0m\u001b[1;33m(\u001b[0m\u001b[0mX\u001b[0m\u001b[1;33m,\u001b[0m \u001b[0mX\u001b[0m\u001b[1;33m)\u001b[0m\u001b[1;33m)\u001b[0m\u001b[1;33m\u001b[0m\u001b[1;33m\u001b[0m\u001b[0m\n\u001b[0m\u001b[0;32m    102\u001b[0m \u001b[1;33m\u001b[0m\u001b[0m\n\u001b[0;32m    103\u001b[0m         \u001b[0mK\u001b[0m \u001b[1;33m=\u001b[0m \u001b[0mself\u001b[0m\u001b[1;33m.\u001b[0m\u001b[0mcomputeKernelMatrix\u001b[0m\u001b[1;33m(\u001b[0m\u001b[0mX\u001b[0m\u001b[1;33m,\u001b[0m \u001b[0mX\u001b[0m\u001b[1;33m)\u001b[0m\u001b[1;33m\u001b[0m\u001b[1;33m\u001b[0m\u001b[0m\n",
      "\u001b[1;32m<ipython-input-108-91afa59f49c9>\u001b[0m in \u001b[0;36mcomputeKernelMatrix2\u001b[1;34m(self, X, K, feat)\u001b[0m\n\u001b[0;32m     71\u001b[0m     \u001b[1;32mdef\u001b[0m \u001b[0mcomputeKernelMatrix2\u001b[0m\u001b[1;33m(\u001b[0m\u001b[0mself\u001b[0m\u001b[1;33m,\u001b[0m \u001b[0mX\u001b[0m\u001b[1;33m,\u001b[0m \u001b[0mK\u001b[0m \u001b[1;33m=\u001b[0m \u001b[1;32mNone\u001b[0m\u001b[1;33m,\u001b[0m \u001b[0mfeat\u001b[0m \u001b[1;33m=\u001b[0m \u001b[1;32mTrue\u001b[0m\u001b[1;33m)\u001b[0m\u001b[1;33m:\u001b[0m\u001b[1;33m\u001b[0m\u001b[1;33m\u001b[0m\u001b[0m\n\u001b[0;32m     72\u001b[0m         \u001b[1;32mif\u001b[0m \u001b[0mself\u001b[0m\u001b[1;33m.\u001b[0m\u001b[0mkernel\u001b[0m \u001b[1;33m==\u001b[0m \u001b[1;34m'linear'\u001b[0m\u001b[1;33m:\u001b[0m \u001b[1;32mreturn\u001b[0m \u001b[0mpolynomial_kernel\u001b[0m\u001b[1;33m(\u001b[0m\u001b[0mX\u001b[0m\u001b[1;33m,\u001b[0m \u001b[0mX\u001b[0m\u001b[1;33m,\u001b[0m \u001b[0mdegree\u001b[0m\u001b[1;33m=\u001b[0m\u001b[1;36m1\u001b[0m\u001b[1;33m,\u001b[0m \u001b[0mK\u001b[0m \u001b[1;33m=\u001b[0m \u001b[0mK\u001b[0m\u001b[1;33m,\u001b[0m \u001b[0mfeat\u001b[0m \u001b[1;33m=\u001b[0m \u001b[0mfeat\u001b[0m\u001b[1;33m)\u001b[0m\u001b[1;33m\u001b[0m\u001b[1;33m\u001b[0m\u001b[0m\n\u001b[1;32m---> 73\u001b[1;33m         \u001b[1;32mif\u001b[0m \u001b[0mself\u001b[0m\u001b[1;33m.\u001b[0m\u001b[0mkernel\u001b[0m \u001b[1;33m==\u001b[0m \u001b[1;34m'poly'\u001b[0m\u001b[1;33m:\u001b[0m \u001b[1;32mreturn\u001b[0m \u001b[0mpolynomial_kernel\u001b[0m\u001b[1;33m(\u001b[0m\u001b[0mX\u001b[0m\u001b[1;33m,\u001b[0m \u001b[0mX\u001b[0m\u001b[1;33m,\u001b[0m \u001b[0mcoef0\u001b[0m\u001b[1;33m=\u001b[0m\u001b[0mself\u001b[0m\u001b[1;33m.\u001b[0m\u001b[0mC\u001b[0m\u001b[1;33m,\u001b[0m \u001b[0mdegree\u001b[0m\u001b[1;33m=\u001b[0m\u001b[0mself\u001b[0m\u001b[1;33m.\u001b[0m\u001b[0mdegree\u001b[0m\u001b[1;33m,\u001b[0m \u001b[0mK\u001b[0m \u001b[1;33m=\u001b[0m \u001b[0mK\u001b[0m\u001b[1;33m,\u001b[0m \u001b[0mfeat\u001b[0m \u001b[1;33m=\u001b[0m \u001b[0mfeat\u001b[0m\u001b[1;33m)\u001b[0m\u001b[1;33m\u001b[0m\u001b[1;33m\u001b[0m\u001b[0m\n\u001b[0m\u001b[0;32m     74\u001b[0m         \u001b[1;32mif\u001b[0m \u001b[0mself\u001b[0m\u001b[1;33m.\u001b[0m\u001b[0mkernel\u001b[0m \u001b[1;33m==\u001b[0m \u001b[1;34m'rbf'\u001b[0m\u001b[1;33m:\u001b[0m \u001b[1;32mreturn\u001b[0m \u001b[0mrbf_kernel\u001b[0m\u001b[1;33m(\u001b[0m\u001b[0mX\u001b[0m\u001b[1;33m,\u001b[0m \u001b[0mX\u001b[0m\u001b[1;33m,\u001b[0m \u001b[0mgamma\u001b[0m\u001b[1;33m=\u001b[0m\u001b[0mself\u001b[0m\u001b[1;33m.\u001b[0m\u001b[0mgamma\u001b[0m\u001b[1;33m)\u001b[0m\u001b[1;33m\u001b[0m\u001b[1;33m\u001b[0m\u001b[0m\n\u001b[0;32m     75\u001b[0m \u001b[1;33m\u001b[0m\u001b[0m\n",
      "\u001b[1;32m<ipython-input-108-91afa59f49c9>\u001b[0m in \u001b[0;36mpolynomial_kernel\u001b[1;34m(X, Y, degree, gamma, coef0, feat, K)\u001b[0m\n\u001b[0;32m     36\u001b[0m         \u001b[1;32mreturn\u001b[0m  \u001b[1;33m(\u001b[0m\u001b[0mnp\u001b[0m\u001b[1;33m.\u001b[0m\u001b[0mdot\u001b[0m\u001b[1;33m(\u001b[0m\u001b[0ma\u001b[0m\u001b[1;33m,\u001b[0m \u001b[0mb\u001b[0m\u001b[1;33m)\u001b[0m \u001b[1;33m*\u001b[0m \u001b[0mgamma\u001b[0m \u001b[1;33m+\u001b[0m \u001b[0mcoef0\u001b[0m\u001b[1;33m)\u001b[0m \u001b[1;33m**\u001b[0m \u001b[0mdegree\u001b[0m\u001b[1;33m\u001b[0m\u001b[1;33m\u001b[0m\u001b[0m\n\u001b[0;32m     37\u001b[0m \u001b[1;33m\u001b[0m\u001b[0m\n\u001b[1;32m---> 38\u001b[1;33m     \u001b[1;32mreturn\u001b[0m \u001b[0mcombolution\u001b[0m\u001b[1;33m(\u001b[0m\u001b[0mX\u001b[0m\u001b[1;33m,\u001b[0m \u001b[0mY\u001b[0m\u001b[1;33m,\u001b[0m \u001b[0mk\u001b[0m\u001b[1;33m,\u001b[0m \u001b[0mK\u001b[0m\u001b[1;33m,\u001b[0m \u001b[0mfeat\u001b[0m\u001b[1;33m)\u001b[0m\u001b[1;33m\u001b[0m\u001b[1;33m\u001b[0m\u001b[0m\n\u001b[0m\u001b[0;32m     39\u001b[0m \u001b[1;33m\u001b[0m\u001b[0m\n\u001b[0;32m     40\u001b[0m \u001b[1;32mdef\u001b[0m \u001b[0mrbf_kernel\u001b[0m\u001b[1;33m(\u001b[0m\u001b[0mX\u001b[0m\u001b[1;33m,\u001b[0m \u001b[0mY\u001b[0m\u001b[1;33m,\u001b[0m \u001b[0mgamma\u001b[0m\u001b[1;33m=\u001b[0m\u001b[1;32mNone\u001b[0m\u001b[1;33m,\u001b[0m \u001b[0mfeat\u001b[0m\u001b[1;33m=\u001b[0m\u001b[1;32mTrue\u001b[0m\u001b[1;33m)\u001b[0m\u001b[1;33m:\u001b[0m\u001b[1;33m\u001b[0m\u001b[1;33m\u001b[0m\u001b[0m\n",
      "\u001b[1;32m<ipython-input-108-91afa59f49c9>\u001b[0m in \u001b[0;36mcombolution\u001b[1;34m(X, Y, k, K, feat)\u001b[0m\n\u001b[0;32m     16\u001b[0m                 \u001b[0mK\u001b[0m\u001b[1;33m[\u001b[0m\u001b[0mi\u001b[0m\u001b[1;33m,\u001b[0m \u001b[0mj\u001b[0m\u001b[1;33m]\u001b[0m \u001b[1;33m=\u001b[0m \u001b[0mk\u001b[0m\u001b[1;33m(\u001b[0m\u001b[0mX\u001b[0m\u001b[1;33m[\u001b[0m\u001b[0mi\u001b[0m\u001b[1;33m]\u001b[0m\u001b[1;33m,\u001b[0m\u001b[0mY\u001b[0m\u001b[1;33m[\u001b[0m\u001b[0mj\u001b[0m\u001b[1;33m]\u001b[0m\u001b[1;33m)\u001b[0m\u001b[1;33m\u001b[0m\u001b[1;33m\u001b[0m\u001b[0m\n\u001b[0;32m     17\u001b[0m     \u001b[1;32melse\u001b[0m\u001b[1;33m:\u001b[0m\u001b[1;33m\u001b[0m\u001b[1;33m\u001b[0m\u001b[0m\n\u001b[1;32m---> 18\u001b[1;33m         \u001b[1;32mfor\u001b[0m \u001b[0mi\u001b[0m \u001b[1;32min\u001b[0m \u001b[0mfeat\u001b[0m\u001b[1;33m:\u001b[0m\u001b[1;33m\u001b[0m\u001b[1;33m\u001b[0m\u001b[0m\n\u001b[0m\u001b[0;32m     19\u001b[0m             \u001b[1;32mfor\u001b[0m \u001b[0mj\u001b[0m \u001b[1;32min\u001b[0m \u001b[0mfeat\u001b[0m\u001b[1;33m:\u001b[0m\u001b[1;33m\u001b[0m\u001b[1;33m\u001b[0m\u001b[0m\n\u001b[0;32m     20\u001b[0m                 \u001b[0mK\u001b[0m\u001b[1;33m[\u001b[0m\u001b[0mi\u001b[0m\u001b[1;33m,\u001b[0m \u001b[0mj\u001b[0m\u001b[1;33m]\u001b[0m \u001b[1;33m=\u001b[0m \u001b[0mk\u001b[0m\u001b[1;33m(\u001b[0m\u001b[0mX\u001b[0m\u001b[1;33m[\u001b[0m\u001b[0mi\u001b[0m\u001b[1;33m]\u001b[0m\u001b[1;33m,\u001b[0m\u001b[0mY\u001b[0m\u001b[1;33m[\u001b[0m\u001b[0mj\u001b[0m\u001b[1;33m]\u001b[0m\u001b[1;33m)\u001b[0m\u001b[1;33m\u001b[0m\u001b[1;33m\u001b[0m\u001b[0m\n",
      "\u001b[1;31mTypeError\u001b[0m: 'bool' object is not iterable"
     ]
    }
   ],
   "source": [
    "X, y = make_classification(n_samples = 4, n_features=2, n_redundant=0)\n",
    "prob = Problem(kernel='poly')\n",
    "prob.pkern(X, feat=[1])\n",
    "\n",
    "prob = Problem(kernel='rbf')\n",
    "prob.pkern(X)"
   ]
  },
  {
   "cell_type": "code",
   "execution_count": 46,
   "metadata": {},
   "outputs": [
    {
     "output_type": "stream",
     "name": "stdout",
     "text": [
      "poly SKLEARN  IN  0.03200054168701172 s\n",
      "poly MINE  IN  2.1606361865997314 s\n",
      "rbf SKLEARN  IN  0.01599717140197754 s\n",
      "rbf MINE  IN  3.6482324600219727 s\n"
     ]
    }
   ],
   "source": [
    "X, y = make_classification(n_samples = 1000, n_features=200)\n",
    "prob = Problem(kernel='poly')\n",
    "prob.ptime(X)\n",
    "\n",
    "prob = Problem(kernel='rbf')\n",
    "prob.ptime(X)"
   ]
  },
  {
   "cell_type": "code",
   "execution_count": null,
   "metadata": {},
   "outputs": [],
   "source": []
  }
 ]
}